{
 "cells": [
  {
   "cell_type": "markdown",
   "metadata": {},
   "source": [
    "## Genetic Algorithm - Entity 0002\n",
    "**Author:** `Phatdev`, `Le Thanh Phuc`.\n",
    "\n",
    "## Problem 02\n",
    "\n",
    "We have a target string like this: `I love VKU.` and length of target string.\n",
    "\n",
    "We need to generate a new string that similar to the target string.\n",
    "\n",
    "\n",
    "## IDEA\n",
    "We will generate a random string with the same length as the target string. Then we will calculate the fitness of the string by comparing each character of the string with the target string. The fitness is the number of characters that are the same in the same position. We will use the genetic algorithm to generate a new string that has the lowest fitness.\n"
   ]
  },
  {
   "cell_type": "code",
   "execution_count": 78,
   "metadata": {},
   "outputs": [],
   "source": [
    "import random\n",
    "import math"
   ]
  },
  {
   "cell_type": "code",
   "execution_count": 164,
   "metadata": {},
   "outputs": [],
   "source": [
    "import matplotlib.pyplot as plt"
   ]
  },
  {
   "cell_type": "markdown",
   "metadata": {},
   "source": [
    "The first we have a target string like this: `I love VKU.` and length of target string."
   ]
  },
  {
   "cell_type": "code",
   "execution_count": 192,
   "metadata": {},
   "outputs": [],
   "source": [
    "TARGET = \"I love VKU.\""
   ]
  },
  {
   "cell_type": "markdown",
   "metadata": {},
   "source": [
    "We have charecters list and we call it is GEN."
   ]
  },
  {
   "cell_type": "code",
   "execution_count": 193,
   "metadata": {},
   "outputs": [],
   "source": [
    "GEN = '''abcdefghijklmnopqrstuvwxyzABCDEFGHIJKLMNOPQRSTUVWXYZ0123456789()[]{}<>!@#$%^&*+-=_|;:,.<>?/~`\\'\\\"\\\\ '''"
   ]
  },
  {
   "cell_type": "markdown",
   "metadata": {},
   "source": [
    "**First** we generate a random string with the same length as the target string."
   ]
  },
  {
   "cell_type": "code",
   "execution_count": 194,
   "metadata": {},
   "outputs": [],
   "source": [
    "chromosomes = [\"\".join(random.choices(GEN, k=len(TARGET))) for _ in range(100)]"
   ]
  },
  {
   "cell_type": "code",
   "execution_count": 195,
   "metadata": {},
   "outputs": [
    {
     "data": {
      "text/plain": [
       "['t:8PM~]rZM ',\n",
       " 'Xf)wQxWV-#q',\n",
       " ' %A(Ve9yBMr',\n",
       " 'a0\\\\P!8=eyyz',\n",
       " '~SS,>1Pk}qD',\n",
       " '6lx4O<yPO#L',\n",
       " ']B/=Kzq-0Tn',\n",
       " '#*x|f5ab);w',\n",
       " 'kbC~?>mAwvy',\n",
       " '~\\\\0)BH4k_y&',\n",
       " 'CSk\\\\W7zPT5k',\n",
       " '(N/B}t./W\"O',\n",
       " 'd<SyHzX*qUe',\n",
       " \"6'a}&Xcydy`\",\n",
       " '<vq=R^Ovf?L',\n",
       " '`\"uiTjGoOQ ',\n",
       " 'rW#i/ck>v^g',\n",
       " 'ho<ue(\"Y9~s',\n",
       " '(PFSC YgLo/',\n",
       " \"?3IF,96:I'$\",\n",
       " 'R8njwLaJI?#',\n",
       " '(;b@8p9TrS>',\n",
       " '6GmW=}ebf][',\n",
       " '@6|N<\\'\"Sc{b',\n",
       " '3b.OH<qwKY]',\n",
       " '3jJ:{dAX!7o',\n",
       " '@\\\\E4nN/Q:7:',\n",
       " 'rl3\"|%=1QQ?',\n",
       " 'Y5(#l_0J~(z',\n",
       " \"K%H(,^5'-*M\",\n",
       " 'eJX3\\\\rh5n{E',\n",
       " 'FS+$G3-*Q:w',\n",
       " '|@$Rprr_[vT',\n",
       " 'j49zLaP<%VT',\n",
       " 'Q\"BD,}o.RK,',\n",
       " '|#CC3\\\\,F|1:',\n",
       " '4ejMR$P@bRt',\n",
       " 'KT3 %|+tvL7',\n",
       " 'k:pDWV-~!`j',\n",
       " \"]Q|u$~('jdr\",\n",
       " 'w2%=.-u<K&`',\n",
       " 'p.cx8rPq;:p',\n",
       " '&9^VB6@zht@',\n",
       " 'Q:Cs}Fk90rc',\n",
       " 'D;gy&lqA{6F',\n",
       " 'llMl5!;LMw>',\n",
       " 'x=J!N?roetN',\n",
       " '>3gGU F(G[2',\n",
       " '_ly]y-SXe/K',\n",
       " '5!+\\\\sDMg:>@',\n",
       " '>S*QnkV:`Xh',\n",
       " 'G{S~>Z;kd1r',\n",
       " 'lUs2_;UY`Pj',\n",
       " '2>Th#t)3@op',\n",
       " '<P[N7-7]V3/',\n",
       " 'VrBg[;kY %u',\n",
       " '^+2jR,BH:b\\\\',\n",
       " 'V?)E$EV% Jo',\n",
       " 'z#D%}Qx/DBl',\n",
       " 'e*>W\"MK(o.~',\n",
       " 'kUQXay426w:',\n",
       " 'pm]`r_1XMn:',\n",
       " \"MRN({T'#2@C\",\n",
       " '}CQH>5n;Rl(',\n",
       " '<c]H%Te:xws',\n",
       " \"XaJ'DMwZbZw\",\n",
       " 'tX,ewx0p^A6',\n",
       " 'naU ;*}k;kz',\n",
       " 'ZK)6s63}q,3',\n",
       " '7{ &_#DJ6%P',\n",
       " 'x=Ke\\\\A[@>x%',\n",
       " ':yUwn[BBy?M',\n",
       " 'yr9<~&DJ_ /',\n",
       " 'Ne-W* DcV5{',\n",
       " '45&NR-kd(}b',\n",
       " 'A*;XIA82<,?',\n",
       " '0Z-zwM`6cyn',\n",
       " 'Q(4flXSbH -',\n",
       " 'T-X.~W?CMU+',\n",
       " '5;_g<+kh|:P',\n",
       " ':BTb\"dn\"Ko-',\n",
       " '(G7t37;RT9\"',\n",
       " \"LGR(4eIYq'F\",\n",
       " '|.)VNrup?e:',\n",
       " 'm\\\\mz%+;|;N9',\n",
       " '-o%HdHxOb!W',\n",
       " 'HT2tzosw_LZ',\n",
       " \"@!0w2cXMi'J\",\n",
       " \"_'De`-\\\\eiXH\",\n",
       " 'Os@11oY0gUO',\n",
       " '7]o9\"#jV:dk',\n",
       " '=c$:-W}_4mz',\n",
       " '3V>uGT!0Jg$',\n",
       " '\"oiUq_aS]2o',\n",
       " '?|*DK$?t<w%',\n",
       " '~?QdI\"}&d)*',\n",
       " 'ZsFSFdyZii*',\n",
       " '_kT[@F,\\\\#-!',\n",
       " 'fNZ u!T{jIY',\n",
       " 'q c=Zm&Q8l\"']"
      ]
     },
     "execution_count": 195,
     "metadata": {},
     "output_type": "execute_result"
    }
   ],
   "source": [
    "chromosomes"
   ]
  },
  {
   "cell_type": "code",
   "execution_count": 93,
   "metadata": {},
   "outputs": [],
   "source": [
    "fitness = [0]*100"
   ]
  },
  {
   "cell_type": "markdown",
   "metadata": {},
   "source": [
    "Next step we will calculate the fitness of the string by comparing each character of the string with the target string. The fitness is the number of characters that are the same in the same position."
   ]
  },
  {
   "cell_type": "code",
   "execution_count": 204,
   "metadata": {},
   "outputs": [],
   "source": [
    "def calcFitness(chromosome):\n",
    "    fitness = 0\n",
    "    for cc, ct in zip(chromosome, TARGET):\n",
    "        if cc != ct: fitness += 1\n",
    "    return (chromosome, fitness)"
   ]
  },
  {
   "cell_type": "code",
   "execution_count": 96,
   "metadata": {},
   "outputs": [],
   "source": [
    "resolveChromosomes = calcFitness()"
   ]
  },
  {
   "cell_type": "code",
   "execution_count": 97,
   "metadata": {},
   "outputs": [
    {
     "data": {
      "text/plain": [
       "[('9S7>gdo2jEQ', 11),\n",
       " ('?K~+%h9]jjA', 11),\n",
       " ('?09f_[sDujD', 11),\n",
       " ('8mXn!$)airP', 11),\n",
       " ('20g#N,=f}rO', 11),\n",
       " ('US}R$<N3*tM', 11),\n",
       " ('dg[:`mcv^H3', 11),\n",
       " ('_wx>#>D(~&*', 11),\n",
       " ('x#?)ax&w^C)', 11),\n",
       " ('KAi}X_}0Kf]', 11),\n",
       " ('t#q!)<5{2$X', 11),\n",
       " ('<yGz5WSQ*bk', 11),\n",
       " ('(7rpi3hS=nd', 11),\n",
       " ('LVQDi^b>71L', 11),\n",
       " ('bHR>Vfh3>*X', 11),\n",
       " ('p#^f<N7o0?a', 11),\n",
       " ('qs!AoBDED%-', 11),\n",
       " ('aVG,$iU~<&W', 11),\n",
       " ('1Xsxw|hkW>=', 11),\n",
       " ('J~rd:,5_}3(', 11),\n",
       " ('Nusg<U9oH@o', 11),\n",
       " ('I|`alnM2^~3', 10),\n",
       " ('~,Ht3=?>a-<', 11),\n",
       " ('Vk!^fL(l8kn', 11),\n",
       " ('VWv(sR<Lg3/', 10),\n",
       " (']]F3E2LHB75', 11),\n",
       " ('0!TxPNNp<Q,', 11),\n",
       " ('xodz6W-)6]f', 11),\n",
       " ('KNPvH$>X<h_', 11),\n",
       " ('%NaB(=yawx~', 11),\n",
       " ('$>$b@/rPyvz', 11),\n",
       " ('TgIut]}5L#[', 11),\n",
       " ('*}Mfc(@;/H&', 11),\n",
       " ('7[g83!MlMo_', 11),\n",
       " ('zm^8JjuG.md', 11),\n",
       " ('2+fv4Q~&f0>', 11),\n",
       " ('}u0Xo_<0A$[', 11),\n",
       " ('9#n@q<]X#Bl', 11),\n",
       " ('1dN+PI>z2}*', 11),\n",
       " ('8q>l7&Kn3bF', 11),\n",
       " ('>eB~!>L&q<}', 11),\n",
       " ('l>uKy]_,P>!', 11),\n",
       " ('`Y>k[S/F.V_', 11),\n",
       " ('x&.PKe;ey<U', 11),\n",
       " ('FB7@Bky`A<G', 11),\n",
       " ('M2MCL@Yv0w^', 11),\n",
       " ('mg[{MwD=GV:', 11),\n",
       " ('Y09{3s+uD|T', 11),\n",
       " ('Db+K!U>-X0`', 11),\n",
       " ('VZ#n;A2+D@m', 11),\n",
       " ('hhGL^7L6Nlm', 11),\n",
       " ('G*%9QYw`>|_', 11),\n",
       " ('/:Nii|E{aVP', 11),\n",
       " ('};*@Zp!/5ri', 11),\n",
       " ('-zSd~sa7{^2', 11),\n",
       " ('q}C[u3wdw34', 11),\n",
       " ('<J+EEux9q.6', 11),\n",
       " ('40F}l9b]YN/', 11),\n",
       " (')/!GR2,(tQ(', 11),\n",
       " ('fJgo|aH5h=/', 11),\n",
       " ('HMyPc|0q~jR', 11),\n",
       " ('b3fuF>f?DT!', 11),\n",
       " ('XqPYSVUo1t|', 11),\n",
       " ('app3XPR<<Ov', 11),\n",
       " ('G~b:sm4uGuI', 11),\n",
       " ('+S>]MJC+|AI', 11),\n",
       " ('_G|Q<*Ne2}^', 11),\n",
       " (':s/)9a=WQxw', 11),\n",
       " ('yd96LPx0o.E', 11),\n",
       " ('q>M>oYsmlXv', 11),\n",
       " ('3jsm!5Ir`4N', 11),\n",
       " ('l/sIK{vx4Zg', 11),\n",
       " ('CTo}_9H:XQh', 11),\n",
       " ('<uF`7_lYZVU', 11),\n",
       " ('LOP7O5]y4a.', 10),\n",
       " ('-}^*sxUL#~)', 11),\n",
       " ('!Q~<]f8/cH5', 11),\n",
       " ('8K!7GES=]R>', 11),\n",
       " ('*=2+WDc[TEH', 11),\n",
       " ('|:wyhdq1AWU', 11),\n",
       " ('s&Oe.7V8xuH', 11),\n",
       " ('@=,3dSTBw*A', 11),\n",
       " ('_@%in9[X5x*', 10),\n",
       " ('[?e<RHaOwX>', 11),\n",
       " ('5qXcVzWSFD>', 11),\n",
       " ('>[<Sk#]K[p)', 11),\n",
       " ('coHpCX*v*pN', 11),\n",
       " ('xnSmqPEtVft', 11),\n",
       " ('RNEpYuECN8*', 11),\n",
       " ('<$lF<f?}Ta2', 10),\n",
       " ('zH>!/xABwb?', 11),\n",
       " (']Z,Ng+`C>|Z', 11),\n",
       " ('`~BdwKwi0~6', 11),\n",
       " ('k#+8}iW9j,y', 10),\n",
       " ('XQ<B$Pw+J$U', 11),\n",
       " ('Nb4x+lulgy]', 10),\n",
       " ('?s~)|bsTVBl', 11),\n",
       " ('RqPQP>kcZd^', 11),\n",
       " ('$sO1mt2<y^c', 11),\n",
       " ('nvMf#IX2uWT', 11)]"
      ]
     },
     "execution_count": 97,
     "metadata": {},
     "output_type": "execute_result"
    }
   ],
   "source": [
    "resolveChromosomes"
   ]
  },
  {
   "cell_type": "markdown",
   "metadata": {},
   "source": [
    "Resolve chromosomes with the key is fitness."
   ]
  },
  {
   "cell_type": "code",
   "execution_count": 98,
   "metadata": {},
   "outputs": [],
   "source": [
    "resolveChromosomes.sort(key=lambda x: x[1])"
   ]
  },
  {
   "cell_type": "markdown",
   "metadata": {},
   "source": [
    "Get 10 percentage of the best chromosomes and 90 percentage of the worst chromosomes."
   ]
  },
  {
   "cell_type": "code",
   "execution_count": 110,
   "metadata": {},
   "outputs": [],
   "source": [
    "newGen = resolveChromosomes[:int(10*len(resolveChromosomes)/100)]"
   ]
  },
  {
   "cell_type": "code",
   "execution_count": 126,
   "metadata": {},
   "outputs": [
    {
     "data": {
      "text/plain": [
       "[('I|`alnM2^~3', 10),\n",
       " ('VWv(sR<Lg3/', 10),\n",
       " ('LOP7O5]y4a.', 10),\n",
       " ('_@%in9[X5x*', 10),\n",
       " ('<$lF<f?}Ta2', 10),\n",
       " ('k#+8}iW9j,y', 10),\n",
       " ('Nb4x+lulgy]', 10),\n",
       " ('9S7>gdo2jEQ', 11),\n",
       " ('?K~+%h9]jjA', 11),\n",
       " ('?09f_[sDujD', 11)]"
      ]
     },
     "execution_count": 126,
     "metadata": {},
     "output_type": "execute_result"
    }
   ],
   "source": [
    "newGen"
   ]
  },
  {
   "cell_type": "code",
   "execution_count": 127,
   "metadata": {},
   "outputs": [],
   "source": [
    "for _ in range(int(90*len(resolveChromosomes)/100)):\n",
    "    parent1, parent2 = random.choices(resolveChromosomes[:50], k=2)\n",
    "    childChromosome = \"\"\n",
    "\n",
    "    for gp1, gp2 in zip(parent1[0], parent2[0]):\n",
    "        prob = random.random()\n",
    "        if prob < 0.45:\n",
    "            childChromosome+=gp1\n",
    "        elif prob < 0.90:\n",
    "            childChromosome+=gp2\n",
    "        else:\n",
    "            childChromosome+=random.choice(GEN)\n",
    "\n",
    "    def calcFitness(childChromosome):\n",
    "        fitness = 0\n",
    "        for i in range(len(TARGET)):\n",
    "            if childChromosome[i] != TARGET[i]:\n",
    "                fitness += 1\n",
    "        return (childChromosome, fitness)\n",
    "    \n",
    "    newGen.append(calcFitness(childChromosome))\n"
   ]
  },
  {
   "cell_type": "markdown",
   "metadata": {},
   "source": [
    "## Completion Code"
   ]
  },
  {
   "cell_type": "code",
   "execution_count": 190,
   "metadata": {},
   "outputs": [],
   "source": [
    "def GeneticString(chromesomes):\n",
    "    found = False\n",
    "    count = 0\n",
    "\n",
    "    def calcFitness(chromosome):\n",
    "        fitness = 0\n",
    "        for cc, ct in zip(chromosome, TARGET):\n",
    "            if cc != ct: fitness += 1\n",
    "        return (chromosome, fitness)\n",
    "\n",
    "    chromesomes = [calcFitness(chromosome) for chromosome in chromesomes]\n",
    "\n",
    "    #print(chromesomes)\n",
    "\n",
    "    while not found:\n",
    "        chromesomes.sort(key=lambda x: x[1])\n",
    "\n",
    "        if(chromesomes[0][1] <= 0):\n",
    "            print(chromesomes[0][0])\n",
    "            found = True\n",
    "            break\n",
    "\n",
    "        newGen = chromesomes[:int(10*len(chromesomes)/100)]\n",
    "\n",
    "        for _ in range(int(90*len(chromesomes)/100)):\n",
    "            parent1, parent2 = random.choices(chromesomes[:50], k=2)\n",
    "            childChromosome = \"\"\n",
    "\n",
    "            for gp1, gp2 in zip(parent1[0], parent2[0]):\n",
    "                prob = random.random()\n",
    "                if prob < 0.45:\n",
    "                    childChromosome+=gp1\n",
    "                elif prob < 0.90:\n",
    "                    childChromosome+=gp2\n",
    "                else:\n",
    "                    childChromosome+=random.choice(GEN)\n",
    "\n",
    "            newGen.append(calcFitness(childChromosome))\n",
    "\n",
    "        chromesomes = newGen\n",
    "        count += 1\n",
    "        \n",
    "    return count\n"
   ]
  },
  {
   "cell_type": "code",
   "execution_count": 201,
   "metadata": {},
   "outputs": [],
   "source": [
    "steps = []"
   ]
  },
  {
   "cell_type": "code",
   "execution_count": 180,
   "metadata": {},
   "outputs": [
    {
     "name": "stdout",
     "output_type": "stream",
     "text": [
      "I love VKU. VKU is the best university in the world\n"
     ]
    },
    {
     "data": {
      "text/plain": [
       "113927"
      ]
     },
     "execution_count": 180,
     "metadata": {},
     "output_type": "execute_result"
    }
   ],
   "source": [
    "GeneticString(chromosomes)"
   ]
  },
  {
   "cell_type": "code",
   "execution_count": 196,
   "metadata": {},
   "outputs": [
    {
     "name": "stdout",
     "output_type": "stream",
     "text": [
      "I love VKU.\n"
     ]
    },
    {
     "data": {
      "text/plain": [
       "60"
      ]
     },
     "execution_count": 196,
     "metadata": {},
     "output_type": "execute_result"
    }
   ],
   "source": [
    "GeneticString(chromosomes)"
   ]
  },
  {
   "cell_type": "code",
   "execution_count": 202,
   "metadata": {},
   "outputs": [
    {
     "name": "stdout",
     "output_type": "stream",
     "text": [
      "I love VKU.\n",
      "I love VKU.\n",
      "I love VKU.\n",
      "I love VKU.\n",
      "I love VKU.\n",
      "I love VKU.\n",
      "I love VKU.\n",
      "I love VKU.\n",
      "I love VKU.\n",
      "I love VKU.\n",
      "I love VKU.\n",
      "I love VKU.\n",
      "I love VKU.\n",
      "I love VKU.\n",
      "I love VKU.\n",
      "I love VKU.\n",
      "I love VKU.\n",
      "I love VKU.\n",
      "I love VKU.\n",
      "I love VKU.\n",
      "I love VKU.\n",
      "I love VKU.\n",
      "I love VKU.\n",
      "I love VKU.\n",
      "I love VKU.\n",
      "I love VKU.\n",
      "I love VKU.\n",
      "I love VKU.\n",
      "I love VKU.\n",
      "I love VKU.\n",
      "I love VKU.\n",
      "I love VKU.\n",
      "I love VKU.\n",
      "I love VKU.\n",
      "I love VKU.\n",
      "I love VKU.\n",
      "I love VKU.\n",
      "I love VKU.\n",
      "I love VKU.\n",
      "I love VKU.\n",
      "I love VKU.\n",
      "I love VKU.\n",
      "I love VKU.\n",
      "I love VKU.\n",
      "I love VKU.\n",
      "I love VKU.\n",
      "I love VKU.\n",
      "I love VKU.\n",
      "I love VKU.\n",
      "I love VKU.\n",
      "I love VKU.\n",
      "I love VKU.\n",
      "I love VKU.\n",
      "I love VKU.\n",
      "I love VKU.\n",
      "I love VKU.\n",
      "I love VKU.\n",
      "I love VKU.\n",
      "I love VKU.\n",
      "I love VKU.\n",
      "I love VKU.\n",
      "I love VKU.\n",
      "I love VKU.\n",
      "I love VKU.\n",
      "I love VKU.\n",
      "I love VKU.\n",
      "I love VKU.\n",
      "I love VKU.\n",
      "I love VKU.\n",
      "I love VKU.\n",
      "I love VKU.\n",
      "I love VKU.\n",
      "I love VKU.\n",
      "I love VKU.\n",
      "I love VKU.\n",
      "I love VKU.\n",
      "I love VKU.\n",
      "I love VKU.\n",
      "I love VKU.\n",
      "I love VKU.\n",
      "I love VKU.\n",
      "I love VKU.\n",
      "I love VKU.\n",
      "I love VKU.\n",
      "I love VKU.\n",
      "I love VKU.\n",
      "I love VKU.\n",
      "I love VKU.\n",
      "I love VKU.\n",
      "I love VKU.\n",
      "I love VKU.\n",
      "I love VKU.\n",
      "I love VKU.\n",
      "I love VKU.\n",
      "I love VKU.\n",
      "I love VKU.\n",
      "I love VKU.\n",
      "I love VKU.\n",
      "I love VKU.\n",
      "I love VKU.\n"
     ]
    }
   ],
   "source": [
    "for i in range(100):\n",
    "    steps.append(GeneticString(chromosomes))"
   ]
  },
  {
   "cell_type": "code",
   "execution_count": 203,
   "metadata": {},
   "outputs": [
    {
     "data": {
      "image/png": "[encoded data removed]",
      "text/plain": [
       "<Figure size 640x480 with 1 Axes>"
      ]
     },
     "metadata": {},
     "output_type": "display_data"
    }
   ],
   "source": [
    "plt.title(\"Genetic Steps\")\n",
    "plt.plot(steps)\n",
    "plt.show()"
   ]
  },
  {
   "cell_type": "code",
   "execution_count": null,
   "metadata": {},
   "outputs": [],
   "source": []
  }
 ],
 "metadata": {
  "kernelspec": {
   "display_name": "Python 3",
   "language": "python",
   "name": "python3"
  },
  "language_info": {
   "codemirror_mode": {
    "name": "ipython",
    "version": 3
   },
   "file_extension": ".py",
   "mimetype": "text/x-python",
   "name": "python",
   "nbconvert_exporter": "python",
   "pygments_lexer": "ipython3",
   "version": "3.12.1"
  }
 },
 "nbformat": 4,
 "nbformat_minor": 2
}
