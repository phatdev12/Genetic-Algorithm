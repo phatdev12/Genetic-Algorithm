{
 "cells": [
  {
   "cell_type": "markdown",
   "metadata": {},
   "source": [
    "## Genetic Algorithm - Entity 0001\n",
    "**Author:** `Phatdev`, `Le Thanh Phuc`.\n",
    "\n",
    "## Problem 01\n",
    "\n",
    "Find a, b, c, d for **a + 2\\*b + 3\\*c + 4\\*d = S**\n",
    "Example: S = 60\n",
    "\n",
    "## IDEA\n",
    "**1:** Use backtracking to find all possible values of a, b, c, d. (Basic solution)\n",
    "\n",
    "**2:** Use **Genetic Algorithm** to find the best values of a, b, c, d."
   ]
  },
  {
   "cell_type": "code",
   "execution_count": 2,
   "metadata": {},
   "outputs": [
    {
     "name": "stdout",
     "output_type": "stream",
     "text": [
      "Requirement already satisfied: matplotlib in /home/codespace/.local/lib/python3.12/site-packages (3.9.2)\n",
      "Requirement already satisfied: contourpy>=1.0.1 in /home/codespace/.local/lib/python3.12/site-packages (from matplotlib) (1.3.0)\n",
      "Requirement already satisfied: cycler>=0.10 in /home/codespace/.local/lib/python3.12/site-packages (from matplotlib) (0.12.1)\n",
      "Requirement already satisfied: fonttools>=4.22.0 in /home/codespace/.local/lib/python3.12/site-packages (from matplotlib) (4.54.1)\n",
      "Requirement already satisfied: kiwisolver>=1.3.1 in /home/codespace/.local/lib/python3.12/site-packages (from matplotlib) (1.4.7)\n",
      "Requirement already satisfied: numpy>=1.23 in /home/codespace/.local/lib/python3.12/site-packages (from matplotlib) (2.1.1)\n",
      "Requirement already satisfied: packaging>=20.0 in /home/codespace/.local/lib/python3.12/site-packages (from matplotlib) (24.1)\n",
      "Requirement already satisfied: pillow>=8 in /home/codespace/.local/lib/python3.12/site-packages (from matplotlib) (10.4.0)\n",
      "Requirement already satisfied: pyparsing>=2.3.1 in /home/codespace/.local/lib/python3.12/site-packages (from matplotlib) (3.1.4)\n",
      "Requirement already satisfied: python-dateutil>=2.7 in /home/codespace/.local/lib/python3.12/site-packages (from matplotlib) (2.9.0.post0)\n",
      "Requirement already satisfied: six>=1.5 in /home/codespace/.local/lib/python3.12/site-packages (from python-dateutil>=2.7->matplotlib) (1.16.0)\n",
      "Note: you may need to restart the kernel to use updated packages.\n"
     ]
    }
   ],
   "source": [
    "%pip install matplotlib"
   ]
  },
  {
   "cell_type": "markdown",
   "metadata": {},
   "source": [
    "Import libraries"
   ]
  },
  {
   "cell_type": "code",
   "execution_count": 3,
   "metadata": {},
   "outputs": [],
   "source": [
    "import random\n",
    "import math"
   ]
  },
  {
   "cell_type": "code",
   "execution_count": 4,
   "metadata": {},
   "outputs": [],
   "source": [
    "import matplotlib.pyplot as plt"
   ]
  },
  {
   "cell_type": "markdown",
   "metadata": {},
   "source": [
    "We will initialize a chromosomes list with chromosome is a list of 4 values [a, b, c, d].\n",
    "\n",
    "So we have a chromosomes list look like this: `[[a1, b1, c1, d1], [a2, b2, c2, d2], ..., [an, bn, cn, dn]]`.\n",
    "\n",
    "Example with n = 10: `[a1, b1, c1, d1], [a2, b2, c2, d2], [a3, b3, c3, d3], [a4, b4, c4, d4], ..., [a9, b9, c9, d9], [a10, b10, c10, d10]`."
   ]
  },
  {
   "cell_type": "code",
   "execution_count": 5,
   "metadata": {},
   "outputs": [],
   "source": [
    "chromosomes = [[random.randint(1, 60) for i in range(4)] for j in range(10)]"
   ]
  },
  {
   "cell_type": "code",
   "execution_count": 6,
   "metadata": {},
   "outputs": [
    {
     "data": {
      "text/plain": [
       "[[35, 36, 14, 21],\n",
       " [38, 29, 29, 56],\n",
       " [2, 38, 29, 20],\n",
       " [40, 17, 50, 13],\n",
       " [31, 45, 55, 22],\n",
       " [47, 5, 2, 10],\n",
       " [2, 53, 57, 52],\n",
       " [3, 13, 6, 4],\n",
       " [41, 21, 9, 31],\n",
       " [52, 35, 27, 51]]"
      ]
     },
     "execution_count": 6,
     "metadata": {},
     "output_type": "execute_result"
    }
   ],
   "source": [
    "chromosomes"
   ]
  },
  {
   "cell_type": "markdown",
   "metadata": {},
   "source": [
    "### Re-transform expressions\n",
    "\n",
    "**First expression:** `a + 2*b + 3*c + 4*d = S`.\n",
    "\n",
    "We are going to transform `a + 2*b + 3*c + 4*d = S` to `abs((a + 2*b + 3*c + 4*d) - S) = 0`.\n",
    "\n",
    "So after re-transforming, we have `abs((a + 2*b + 3*c + 4*d) - S) = 0`. Let's write a function to calculate value of this expression.\n",
    "For example:\n",
    "\n",
    "```python\n",
    "def calculate(a, b, c, d, S):\n",
    "    return abs((a + 2*b + 3*c + 4*d) - S)\n",
    "```\n",
    "\n",
    "But in this problem we will transform `a, b, c, d` into a chromosome list with 4 genes. So we need to modify the function above to calculate the value of the expression with a chromosome list.\n",
    "\n",
    "```python\n",
    "def calculate(chromosome, S):\n",
    "    return abs((chromosome[0] + 2*chromosome[1] + 3*chromosome[2] + 4*chromosome[3]) - S)\n",
    "```\n",
    "\n",
    "In the next step, we will define the calculate function in this notebook."
   ]
  },
  {
   "cell_type": "code",
   "execution_count": 7,
   "metadata": {},
   "outputs": [],
   "source": [
    "def calculate(chromosome, S):\n",
    "    return (abs(chromosome[0] + 2*chromosome[1] + 3*chromosome[2] + 4*chromosome[3] - S))"
   ]
  },
  {
   "cell_type": "markdown",
   "metadata": {},
   "source": [
    "Calculate the fitness of a chromosome is the value of the expression above. The smaller the value, the better the chromosome."
   ]
  },
  {
   "cell_type": "code",
   "execution_count": 8,
   "metadata": {},
   "outputs": [],
   "source": [
    "fs = [calculate(chromosome, 60) for chromosome in chromosomes]\n",
    "fitness = [1/(1 + f) for f in fs]"
   ]
  },
  {
   "cell_type": "code",
   "execution_count": 9,
   "metadata": {},
   "outputs": [
    {
     "data": {
      "text/plain": [
       "[0.005747126436781609,\n",
       " 0.0028735632183908046,\n",
       " 0.005376344086021506,\n",
       " 0.004608294930875576,\n",
       " 0.0031746031746031746,\n",
       " 0.022727272727272728,\n",
       " 0.002336448598130841,\n",
       " 0.25,\n",
       " 0.005714285714285714,\n",
       " 0.0028735632183908046]"
      ]
     },
     "execution_count": 9,
     "metadata": {},
     "output_type": "execute_result"
    }
   ],
   "source": [
    "fitness"
   ]
  },
  {
   "cell_type": "markdown",
   "metadata": {},
   "source": [
    "Calculate total fitness of all chromosomes in the chromosomes list."
   ]
  },
  {
   "cell_type": "code",
   "execution_count": 10,
   "metadata": {},
   "outputs": [],
   "source": [
    "totalFitness = sum(fitness)"
   ]
  },
  {
   "cell_type": "markdown",
   "metadata": {},
   "source": [
    "Calculate percentage of each chromosome in the chromosomes list."
   ]
  },
  {
   "cell_type": "code",
   "execution_count": 11,
   "metadata": {},
   "outputs": [],
   "source": [
    "percentage = [f/totalFitness for f in fitness]\n",
    "prefixPercentage = [sum(percentage[:i+1]) for i in range(len(percentage))]"
   ]
  },
  {
   "cell_type": "code",
   "execution_count": 12,
   "metadata": {},
   "outputs": [
    {
     "data": {
      "text/plain": [
       "[<matplotlib.lines.Line2D at 0x78820f311af0>]"
      ]
     },
     "execution_count": 12,
     "metadata": {},
     "output_type": "execute_result"
    },
    {
     "data": {
      "image/png": "[encoded data removed]",
      "text/plain": [
       "<Figure size 640x480 with 1 Axes>"
      ]
     },
     "metadata": {},
     "output_type": "display_data"
    }
   ],
   "source": [
    "plt.title(\"Percentages\")\n",
    "plt.plot(percentage)\n",
    "plt.plot(prefixPercentage)\n"
   ]
  },
  {
   "cell_type": "markdown",
   "metadata": {},
   "source": [
    "Random percentage of each chromosome in the chromosomes list."
   ]
  },
  {
   "cell_type": "code",
   "execution_count": 13,
   "metadata": {},
   "outputs": [],
   "source": [
    "randomPercentage = [random.random() for i in range(10)]"
   ]
  },
  {
   "cell_type": "code",
   "execution_count": 14,
   "metadata": {},
   "outputs": [
    {
     "data": {
      "text/plain": [
       "[0.7787685138664504,\n",
       " 0.6369172736915284,\n",
       " 0.8543850541187428,\n",
       " 0.9221812510109855,\n",
       " 0.5638189091108793,\n",
       " 0.6232395645132249,\n",
       " 0.8476136979533709,\n",
       " 0.2045234047884602,\n",
       " 0.10496293258303102,\n",
       " 0.33599174012264377]"
      ]
     },
     "execution_count": 14,
     "metadata": {},
     "output_type": "execute_result"
    }
   ],
   "source": [
    "randomPercentage"
   ]
  },
  {
   "cell_type": "code",
   "execution_count": 15,
   "metadata": {},
   "outputs": [
    {
     "data": {
      "text/plain": [
       "[<matplotlib.lines.Line2D at 0x78820f1d5b50>]"
      ]
     },
     "execution_count": 15,
     "metadata": {},
     "output_type": "execute_result"
    },
    {
     "data": {
      "image/png": "[encoded data removed]",
      "text/plain": [
       "<Figure size 640x480 with 1 Axes>"
      ]
     },
     "metadata": {},
     "output_type": "display_data"
    }
   ],
   "source": [
    "plt.plot(randomPercentage)\n",
    "plt.plot(prefixPercentage)"
   ]
  },
  {
   "cell_type": "markdown",
   "metadata": {},
   "source": [
    "Create a new chromosomes list with original each chromosome list in the chromosomes list with 4 genes and the value of genes is 0."
   ]
  },
  {
   "cell_type": "code",
   "execution_count": 16,
   "metadata": {},
   "outputs": [],
   "source": [
    "newChromosomes = [[0, 0, 0, 0] for i in range(10)]"
   ]
  },
  {
   "cell_type": "markdown",
   "metadata": {},
   "source": [
    "Check the elements in the chromosomes list. If the percentage of randomPercentage is within the range of the percentage of the chromosome, we will add the chromosome to the new chromosomes list."
   ]
  },
  {
   "cell_type": "code",
   "execution_count": 17,
   "metadata": {},
   "outputs": [],
   "source": [
    "for i in range(10):\n",
    "    for j in range(10):\n",
    "        if randomPercentage[i] < prefixPercentage[j]:\n",
    "            newChromosomes[i] = chromosomes[j]\n",
    "            break"
   ]
  },
  {
   "cell_type": "code",
   "execution_count": 18,
   "metadata": {},
   "outputs": [
    {
     "data": {
      "text/plain": [
       "([[35, 36, 14, 21],\n",
       "  [38, 29, 29, 56],\n",
       "  [2, 38, 29, 20],\n",
       "  [40, 17, 50, 13],\n",
       "  [31, 45, 55, 22],\n",
       "  [47, 5, 2, 10],\n",
       "  [2, 53, 57, 52],\n",
       "  [3, 13, 6, 4],\n",
       "  [41, 21, 9, 31],\n",
       "  [52, 35, 27, 51]],\n",
       " [[3, 13, 6, 4],\n",
       "  [3, 13, 6, 4],\n",
       "  [3, 13, 6, 4],\n",
       "  [3, 13, 6, 4],\n",
       "  [3, 13, 6, 4],\n",
       "  [3, 13, 6, 4],\n",
       "  [3, 13, 6, 4],\n",
       "  [3, 13, 6, 4],\n",
       "  [47, 5, 2, 10],\n",
       "  [3, 13, 6, 4]])"
      ]
     },
     "execution_count": 18,
     "metadata": {},
     "output_type": "execute_result"
    }
   ],
   "source": [
    "chromosomes, newChromosomes"
   ]
  },
  {
   "cell_type": "markdown",
   "metadata": {},
   "source": [
    "Create crossover rate."
   ]
  },
  {
   "cell_type": "code",
   "execution_count": 19,
   "metadata": {},
   "outputs": [],
   "source": [
    "crossoverRate = [random.random() for i in range(10)]"
   ]
  },
  {
   "cell_type": "code",
   "execution_count": 20,
   "metadata": {},
   "outputs": [],
   "source": [
    "rate = 0.25"
   ]
  },
  {
   "cell_type": "markdown",
   "metadata": {},
   "source": [
    "Create selection chromosome from new chromosomes list.\n",
    "So we will selection chromosome which crossover rate under 0.25.\n"
   ]
  },
  {
   "cell_type": "code",
   "execution_count": 21,
   "metadata": {},
   "outputs": [],
   "source": [
    "# create selection of chromosomes\n",
    "selection = []"
   ]
  },
  {
   "cell_type": "code",
   "execution_count": 22,
   "metadata": {},
   "outputs": [],
   "source": [
    "for i in range(10):\n",
    "    if(crossoverRate[i] < 0.25):\n",
    "        selection.append((newChromosomes[i], i))"
   ]
  },
  {
   "cell_type": "code",
   "execution_count": 23,
   "metadata": {},
   "outputs": [],
   "source": [
    "# temp selection of chromosomes\n",
    "tempSelection = selection"
   ]
  },
  {
   "cell_type": "markdown",
   "metadata": {},
   "source": [
    "Croossover the selected chromosomes. With crossover point is 1 -> n-1."
   ]
  },
  {
   "cell_type": "code",
   "execution_count": 27,
   "metadata": {},
   "outputs": [],
   "source": [
    "for i in range(0, len(selection)-1):\n",
    "    for j in range(i+1, len(selection)):\n",
    "        crossoverRate = random.randint(0, 3)\n",
    "        newChromosome = selection[i][0][:crossoverRate] + selection[j][0][crossoverRate:]\n",
    "        newChromosomes[selection[i][1]] = newChromosome\n",
    "        "
   ]
  },
  {
   "cell_type": "code",
   "execution_count": 28,
   "metadata": {},
   "outputs": [
    {
     "data": {
      "text/plain": [
       "[[3, 13, 6, 4],\n",
       " [47, 5, 2, 10],\n",
       " [3, 13, 6, 4],\n",
       " [3, 13, 6, 4],\n",
       " [3, 5, 2, 10],\n",
       " [3, 13, 6, 4],\n",
       " [3, 13, 6, 4],\n",
       " [3, 13, 6, 4],\n",
       " [47, 5, 2, 10],\n",
       " [3, 13, 6, 4]]"
      ]
     },
     "execution_count": 28,
     "metadata": {},
     "output_type": "execute_result"
    }
   ],
   "source": [
    "newChromosomes"
   ]
  },
  {
   "cell_type": "markdown",
   "metadata": {},
   "source": [
    "Create total generation."
   ]
  },
  {
   "cell_type": "code",
   "execution_count": 30,
   "metadata": {},
   "outputs": [],
   "source": [
    "totalGen = len(newChromosomes)*len(newChromosomes[0])\n",
    "mutationRate = math.floor(0.1*totalGen)"
   ]
  },
  {
   "cell_type": "markdown",
   "metadata": {},
   "source": [
    "Next step, we will implement mutation process."
   ]
  },
  {
   "cell_type": "markdown",
   "metadata": {},
   "source": [
    "### Mutation"
   ]
  },
  {
   "cell_type": "code",
   "execution_count": 31,
   "metadata": {},
   "outputs": [],
   "source": [
    "for i in range(mutationRate):\n",
    "    row = random.randint(0, len(newChromosomes)-1)\n",
    "    col = random.randint(0, len(newChromosomes[0])-1)\n",
    "    newChromosomes[row][col] = random.randint(1, 60)"
   ]
  },
  {
   "cell_type": "markdown",
   "metadata": {},
   "source": [
    "And the last step, we will check the best chromosome in the chromosomes list. If the the value is the best, we will break the loop and return the best chromosome. Otherwise, we will continue the loop. Repeat again with `chromosomes` = `newChromosomes`."
   ]
  },
  {
   "cell_type": "markdown",
   "metadata": {},
   "source": []
  }
 ],
 "metadata": {
  "kernelspec": {
   "display_name": "Python 3",
   "language": "python",
   "name": "python3"
  },
  "language_info": {
   "codemirror_mode": {
    "name": "ipython",
    "version": 3
   },
   "file_extension": ".py",
   "mimetype": "text/x-python",
   "name": "python",
   "nbconvert_exporter": "python",
   "pygments_lexer": "ipython3",
   "version": "3.12.1"
  }
 },
 "nbformat": 4,
 "nbformat_minor": 2
}
